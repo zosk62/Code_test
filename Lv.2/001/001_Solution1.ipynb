{
 "cells": [
  {
   "cell_type": "code",
   "execution_count": 1,
   "id": "745b420b-16c2-4fc2-a9a5-9143b407873d",
   "metadata": {},
   "outputs": [
    {
     "name": "stdout",
     "output_type": "stream",
     "text": [
      "Shortest subsequences with sum 8: [[8]]\n"
     ]
    }
   ],
   "source": [
    "import itertools\n",
    "def solution(sequence, k):\n",
    "    comb_all = []  # Initialize list to store all combinations\n",
    "    \n",
    "    # Generate all combinations of the sequence\n",
    "    for i in range(1, len(sequence) + 1):\n",
    "        result = itertools.combinations(sequence, i)\n",
    "        \n",
    "        # Check each combination for the desired sum\n",
    "        for combination in result:\n",
    "            current_sum = 0  # Rename to avoid conflict with built-in sum function\n",
    "            for num in combination:\n",
    "                current_sum += num\n",
    "            if current_sum == k:\n",
    "                comb_all.append(list(combination))\n",
    "                \n",
    "    # Find the minimum length of the combinations\n",
    "    min_length = min(len(comb) for comb in comb_all)\n",
    "    \n",
    "    # Collect combinations with the shortest length\n",
    "    shortest_combinations = [comb for comb in comb_all if len(comb) == min_length]\n",
    "    \n",
    "    # Find the earliest starting subsequences among the shortest combinations\n",
    "    earliest_starting_subsequences = []\n",
    "    earliest_start_index = len(sequence) + 1\n",
    "    for comb in shortest_combinations:\n",
    "        start_index = sequence.index(comb[0])\n",
    "        if start_index < earliest_start_index:\n",
    "            earliest_starting_subsequences = [comb]\n",
    "            earliest_start_index = start_index\n",
    "        elif start_index == earliest_start_index:\n",
    "            earliest_starting_subsequences.append(comb)\n",
    "    \n",
    "    return earliest_starting_subsequences\n",
    "\n",
    "# Example usage:\n",
    "sequence = [1, 2, 3, 4, 5, 8, 10]  \n",
    "k = 8\n",
    "result = solution(sequence, k)\n",
    "print(\"Shortest subsequences with sum {}: {}\".format(k, result))"
   ]
  },
  {
   "cell_type": "code",
   "execution_count": null,
   "id": "b6d05f5f-a1a4-4ad7-8ff4-546bbedb1e14",
   "metadata": {},
   "outputs": [],
   "source": []
  }
 ],
 "metadata": {
  "kernelspec": {
   "display_name": "mldl01_kernel",
   "language": "python",
   "name": "mldl01"
  },
  "language_info": {
   "codemirror_mode": {
    "name": "ipython",
    "version": 3
   },
   "file_extension": ".py",
   "mimetype": "text/x-python",
   "name": "python",
   "nbconvert_exporter": "python",
   "pygments_lexer": "ipython3",
   "version": "3.9.18"
  }
 },
 "nbformat": 4,
 "nbformat_minor": 5
}
