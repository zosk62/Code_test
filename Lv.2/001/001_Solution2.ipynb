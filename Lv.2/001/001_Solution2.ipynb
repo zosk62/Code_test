{
 "cells": [
  {
   "cell_type": "code",
   "execution_count": 2,
   "id": "47de7156-6929-4ff9-89be-7f052e349c4f",
   "metadata": {},
   "outputs": [
    {
     "name": "stdout",
     "output_type": "stream",
     "text": [
      "Shortest subsequences with sum 7: [[2, 5]]\n"
     ]
    }
   ],
   "source": [
    "def solution(sequence, k):\n",
    "    comb_all = []  # Initialize list to store all combinations\n",
    "    \n",
    "    # Function to generate all combinations of the sequence manually\n",
    "    def generate_combinations(arr, start, end, index, r, current_comb):\n",
    "        # When the combination is ready, check its sum\n",
    "        if index == r:\n",
    "            if sum(current_comb) == k:\n",
    "                comb_all.append(current_comb.copy())\n",
    "            return\n",
    "        \n",
    "        # Replace index with all possible elements to create a combination\n",
    "        i = start\n",
    "        while i <= end and end - i + 1 >= r - index:\n",
    "            current_comb[index] = arr[i]\n",
    "            generate_combinations(arr, i + 1, end, index + 1, r, current_comb)\n",
    "            i += 1\n",
    "    \n",
    "    # Generate all combinations using the helper function\n",
    "    n = len(sequence)\n",
    "    for r in range(1, n + 1):  # For all possible lengths\n",
    "        generate_combinations(sequence, 0, n - 1, 0, r, [0] * r)\n",
    "    \n",
    "    # Find the minimum length of the combinations\n",
    "    min_length = min(len(comb) for comb in comb_all)\n",
    "    \n",
    "    # Collect combinations with the shortest length\n",
    "    shortest_combinations = [comb for comb in comb_all if len(comb) == min_length]\n",
    "    \n",
    "    # Find the earliest starting subsequences among the shortest combinations\n",
    "    earliest_starting_subsequences = []\n",
    "    earliest_start_index = len(sequence) + 1\n",
    "    for comb in shortest_combinations:\n",
    "        start_index = sequence.index(comb[0])\n",
    "        if start_index < earliest_start_index:\n",
    "            earliest_starting_subsequences = [comb]\n",
    "            earliest_start_index = start_index\n",
    "        elif start_index == earliest_start_index:\n",
    "            earliest_starting_subsequences.append(comb)\n",
    "    \n",
    "    return earliest_starting_subsequences\n",
    "\n",
    "# Example usage:\n",
    "sequence = [1, 2, 3, 4, 5, 8, 10]\n",
    "k = 7\n",
    "result = solution(sequence, k)\n",
    "print(\"Shortest subsequences with sum {}: {}\".format(k, result))\n"
   ]
  },
  {
   "cell_type": "code",
   "execution_count": null,
   "id": "cfc79ed2-da8f-41b1-85f6-3bc1c53c1632",
   "metadata": {},
   "outputs": [],
   "source": []
  }
 ],
 "metadata": {
  "kernelspec": {
   "display_name": "mldl01_kernel",
   "language": "python",
   "name": "mldl01"
  },
  "language_info": {
   "codemirror_mode": {
    "name": "ipython",
    "version": 3
   },
   "file_extension": ".py",
   "mimetype": "text/x-python",
   "name": "python",
   "nbconvert_exporter": "python",
   "pygments_lexer": "ipython3",
   "version": "3.9.18"
  }
 },
 "nbformat": 4,
 "nbformat_minor": 5
}
