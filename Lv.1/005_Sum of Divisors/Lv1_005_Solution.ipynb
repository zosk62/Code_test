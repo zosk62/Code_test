{
 "cells": [
  {
   "cell_type": "code",
   "execution_count": 11,
   "id": "581d8612-45a0-4756-9e9b-a76a73efd8e3",
   "metadata": {},
   "outputs": [
    {
     "data": {
      "text/plain": [
       "28"
      ]
     },
     "execution_count": 11,
     "metadata": {},
     "output_type": "execute_result"
    }
   ],
   "source": [
    "def solution(n):\n",
    "    \n",
    "    return n + sum([i for i in range(1, (n // 2) + 1) if n % i == 0])\n",
    "\n",
    "n=12\n",
    "solution(n)"
   ]
  },
  {
   "cell_type": "code",
   "execution_count": 17,
   "id": "a3a776cc-342a-4874-ba03-0544868af8dd",
   "metadata": {},
   "outputs": [
    {
     "name": "stdout",
     "output_type": "stream",
     "text": [
      "28\n"
     ]
    }
   ],
   "source": [
    "from math import sqrt\n",
    "\n",
    "def sumDivisor(num):\n",
    "    answer = 0\n",
    "    for d in range(1, int(sqrt(num))+1):\n",
    "        if num%d == 0:\n",
    "            answer += d\n",
    "            answer += int(num/d)\n",
    "\n",
    "    return answer\n",
    "\n",
    "\n",
    "print(sumDivisor(12))"
   ]
  },
  {
   "cell_type": "code",
   "execution_count": 21,
   "id": "671ea71a-2c16-455e-add4-1c15b713e309",
   "metadata": {},
   "outputs": [
    {
     "data": {
      "text/plain": [
       "28"
      ]
     },
     "execution_count": 21,
     "metadata": {},
     "output_type": "execute_result"
    }
   ],
   "source": [
    "def solution(n):\n",
    "    answer = 0\n",
    "    for i in range (n):\n",
    "        if n%(i+1) ==0:\n",
    "            answer += i+1\n",
    "    return answer\n",
    "\n",
    "n=12\n",
    "solution(n)"
   ]
  },
  {
   "cell_type": "code",
   "execution_count": null,
   "id": "abb63f2b-1f16-42ab-80b0-84312ec7b6c5",
   "metadata": {},
   "outputs": [],
   "source": []
  }
 ],
 "metadata": {
  "kernelspec": {
   "display_name": "portf01_kernel",
   "language": "python",
   "name": "portf01"
  },
  "language_info": {
   "codemirror_mode": {
    "name": "ipython",
    "version": 3
   },
   "file_extension": ".py",
   "mimetype": "text/x-python",
   "name": "python",
   "nbconvert_exporter": "python",
   "pygments_lexer": "ipython3",
   "version": "3.9.18"
  }
 },
 "nbformat": 4,
 "nbformat_minor": 5
}
