{
 "cells": [
  {
   "cell_type": "code",
   "execution_count": 1,
   "id": "d7be029f-2ecf-489c-a317-2cf70bc91b3d",
   "metadata": {},
   "outputs": [
    {
     "data": {
      "text/plain": [
       "2"
      ]
     },
     "execution_count": 1,
     "metadata": {},
     "output_type": "execute_result"
    }
   ],
   "source": [
    "# Solution code\n",
    "def solution(t, p):\n",
    "    # Create an empty list\n",
    "    tmp_list = []\n",
    "    # Iterate over the number of substrings generated\n",
    "    for i in range(len(t) - len(p) + 1):\n",
    "        # Generate a substring and convert it to an integer for comparison\n",
    "        t1 = int(t[i:i+len(p)])\n",
    "        # Compare t1 with p\n",
    "        if t1 <= int(p):\n",
    "            # Assign a value of 1 if the condition is met\n",
    "            tmp_list.append(1)\n",
    "        else:\n",
    "            # Assign a value of 0 if the condition is not met\n",
    "            tmp_list.append(0)\n",
    "    # Put the assigned values into the empty list\n",
    "    answer = sum(tmp_list)\n",
    "    return answer\n",
    "\n",
    "t = \"3141592\"\n",
    "p = \"271\"\n",
    "solution(t, p)\n"
   ]
  },
  {
   "cell_type": "code",
   "execution_count": null,
   "id": "4add1783-abf4-40e3-96dc-b5b73e8320bf",
   "metadata": {},
   "outputs": [],
   "source": []
  }
 ],
 "metadata": {
  "kernelspec": {
   "display_name": "mldl01_kernel",
   "language": "python",
   "name": "mldl01"
  },
  "language_info": {
   "codemirror_mode": {
    "name": "ipython",
    "version": 3
   },
   "file_extension": ".py",
   "mimetype": "text/x-python",
   "name": "python",
   "nbconvert_exporter": "python",
   "pygments_lexer": "ipython3",
   "version": "3.9.18"
  }
 },
 "nbformat": 4,
 "nbformat_minor": 5
}
