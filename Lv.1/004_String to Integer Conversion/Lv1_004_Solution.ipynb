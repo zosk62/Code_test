{
 "cells": [
  {
   "cell_type": "code",
   "execution_count": 4,
   "id": "0f747f02-0923-444f-858f-63f278adca2b",
   "metadata": {},
   "outputs": [
    {
     "name": "stdout",
     "output_type": "stream",
     "text": [
      "1234\n",
      "-1234\n"
     ]
    }
   ],
   "source": [
    "# Solution 1\n",
    "def solution(s):\n",
    "    return int(s)\n",
    "\n",
    "# 예시 사용\n",
    "print(solution(\"1234\"))  # 1234를 출력\n",
    "print(solution(\"-1234\"))"
   ]
  },
  {
   "cell_type": "code",
   "execution_count": null,
   "id": "d6c3f65d-0ac0-4d86-b523-48db541d66c4",
   "metadata": {},
   "outputs": [],
   "source": [
    "# solution2\n",
    "def strToInt(str): \n",
    "    result = 0\n",
    "    for idx, number in enumerate(str[::-1]):\n",
    "        if number == '-':\n",
    "            result *= -1\n",
    "        else:\n",
    "            result += int(number) * (10 ** idx)\n",
    "    return result\n",
    "\n",
    "\n",
    "# 아래는 테스트로 출력해 보기 위한 코드입니다.\n",
    "print(strToInt(\"-1234\"));"
   ]
  },
  {
   "cell_type": "code",
   "execution_count": 5,
   "id": "2f0be9b5-fa6c-4496-ba19-7df44c949a55",
   "metadata": {},
   "outputs": [
    {
     "name": "stdout",
     "output_type": "stream",
     "text": [
      "-1234\n"
     ]
    }
   ],
   "source": [
    "#solution3\n",
    "def strToInt(str):\n",
    "    result = 0\n",
    "    size=len(str)\n",
    "    num = 0\n",
    "    if str [0] == '-' :\n",
    "        sign = -1\n",
    "    else :\n",
    "        sign = 1\n",
    "    for i in range(0, size) :\n",
    "        if str[i] == '1' :\n",
    "            num = 1\n",
    "        elif str[i] == '2' :\n",
    "            num = 2\n",
    "        elif str[i] == '3' :\n",
    "            num = 3\n",
    "        elif str[i] == '4' :\n",
    "            num = 4\n",
    "        elif str[i] == '5' :\n",
    "            num = 5\n",
    "        elif str[i] == '6' :\n",
    "            num = 6\n",
    "        elif str[i] == '7' :\n",
    "            num = 7\n",
    "        elif str[i] == '8' :\n",
    "            num = 8\n",
    "        elif str[i] == '9' :\n",
    "            num = 9\n",
    "        else :\n",
    "            num = 0\n",
    "        for i in range(size-i-1) :\n",
    "            num = num * 10\n",
    "        result = result + num\n",
    "    result = result * sign\n",
    "    return result\n",
    "# 아래는 테스트로 출력해 보기 위한 코드입니다.\n",
    "print(strToInt(\"-1234\"));"
   ]
  },
  {
   "cell_type": "code",
   "execution_count": null,
   "id": "69ceb45d-4ac8-4b4e-8b46-5c13a5b93ed4",
   "metadata": {},
   "outputs": [],
   "source": []
  }
 ],
 "metadata": {
  "kernelspec": {
   "display_name": "portf01_kernel",
   "language": "python",
   "name": "portf01"
  },
  "language_info": {
   "codemirror_mode": {
    "name": "ipython",
    "version": 3
   },
   "file_extension": ".py",
   "mimetype": "text/x-python",
   "name": "python",
   "nbconvert_exporter": "python",
   "pygments_lexer": "ipython3",
   "version": "3.9.18"
  }
 },
 "nbformat": 4,
 "nbformat_minor": 5
}
