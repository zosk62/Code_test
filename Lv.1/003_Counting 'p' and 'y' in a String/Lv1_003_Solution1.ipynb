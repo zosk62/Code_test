{
 "cells": [
  {
   "cell_type": "code",
   "execution_count": 6,
   "id": "8467d77f-b95d-494a-8c62-e2dbc2249580",
   "metadata": {},
   "outputs": [
    {
     "data": {
      "text/plain": [
       "False"
      ]
     },
     "execution_count": 6,
     "metadata": {},
     "output_type": "execute_result"
    }
   ],
   "source": [
    "def solution(s):\n",
    "    p=[]\n",
    "    y=[]\n",
    "    for char in s:\n",
    "        if char.lower()=='p':\n",
    "            p.append(char)\n",
    "        elif char.lower()=='y':\n",
    "            y.append(char)\n",
    "    answer=len(p)==len(y)\n",
    "    return answer\n",
    "\n",
    "\n",
    "solution(\"pPoooyY\")\n",
    "solution(\"Pyy\")"
   ]
  },
  {
   "cell_type": "code",
   "execution_count": null,
   "id": "a1079965-4762-4166-858b-0f0c16482a2a",
   "metadata": {},
   "outputs": [],
   "source": []
  }
 ],
 "metadata": {
  "kernelspec": {
   "display_name": "Python 3 (ipykernel)",
   "language": "python",
   "name": "python3"
  },
  "language_info": {
   "codemirror_mode": {
    "name": "ipython",
    "version": 3
   },
   "file_extension": ".py",
   "mimetype": "text/x-python",
   "name": "python",
   "nbconvert_exporter": "python",
   "pygments_lexer": "ipython3",
   "version": "3.9.19"
  }
 },
 "nbformat": 4,
 "nbformat_minor": 5
}
