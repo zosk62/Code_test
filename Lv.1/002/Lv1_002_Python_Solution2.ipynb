{
 "cells": [
  {
   "cell_type": "code",
   "execution_count": 1,
   "id": "16f539d4-9bb0-482a-89a9-b17c8f137699",
   "metadata": {},
   "outputs": [
    {
     "name": "stdout",
     "output_type": "stream",
     "text": [
      "[-1, -1, -1, 2, 2, 2]\n"
     ]
    }
   ],
   "source": [
    "def solution(s):\n",
    "    answer = []\n",
    "    alphabet = {ch: -1 for ch in 'abcdefghijklmnopqrstuvwxyz'}\n",
    "\n",
    "    for i, ch in enumerate(s):\n",
    "        if alphabet[ch] == -1:\n",
    "            answer.append(-1)\n",
    "            alphabet[ch] = i\n",
    "        else:\n",
    "            answer.append(i - alphabet[ch])\n",
    "            alphabet[ch] = i\n",
    "\n",
    "    return answer\n",
    "\n",
    "# Test the function\n",
    "s = \"banana\"\n",
    "print(solution(s))  # Output: [-1, -1, -1, 2, 2, 2]"
   ]
  },
  {
   "cell_type": "code",
   "execution_count": null,
   "id": "16c1ee77-0d54-47d5-b2be-5ae5dccbc4c0",
   "metadata": {},
   "outputs": [],
   "source": []
  }
 ],
 "metadata": {
  "kernelspec": {
   "display_name": "portf01_kernel",
   "language": "python",
   "name": "portf01"
  },
  "language_info": {
   "codemirror_mode": {
    "name": "ipython",
    "version": 3
   },
   "file_extension": ".py",
   "mimetype": "text/x-python",
   "name": "python",
   "nbconvert_exporter": "python",
   "pygments_lexer": "ipython3",
   "version": "3.9.18"
  }
 },
 "nbformat": 4,
 "nbformat_minor": 5
}
