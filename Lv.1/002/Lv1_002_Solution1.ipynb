{
 "cells": [
  {
   "cell_type": "code",
   "execution_count": 2,
   "id": "62e9c475-1eb9-45fd-a2e9-a63b16ff9e17",
   "metadata": {},
   "outputs": [
    {
     "name": "stdout",
     "output_type": "stream",
     "text": [
      "[-1, -1, -1, 2, 2, 2, -1, -1, -1, 2, 2, 2, 2, 7]\n"
     ]
    }
   ],
   "source": [
    "def nearest_occurrence_indices(s):\n",
    "    # Dictionary to store the indices of previously seen characters\n",
    "    seen_indices = {}\n",
    "\n",
    "    # List to store the result\n",
    "    result = []\n",
    "\n",
    "    # Iterate through each character in the string\n",
    "    for i, char in enumerate(s):\n",
    "        if char in seen_indices:\n",
    "            # If the character has occurred before, find the nearest occurrence\n",
    "            result.append(i - seen_indices[char])\n",
    "        else:\n",
    "            # If the character is seen for the first time, set result to -1\n",
    "            result.append(-1)\n",
    "        # Update the index of the current character\n",
    "        seen_indices[char] = i\n",
    "\n",
    "\n",
    "    return result\n",
    "\n",
    "# Test the function\n",
    "s = \"bananazyuyuyuz\"\n",
    "print(nearest_occurrence_indices(s))  # Output: [-1, -1, -1, 2, 2, 2]"
   ]
  },
  {
   "cell_type": "code",
   "execution_count": null,
   "id": "e4ffa077-6728-4e56-97d0-3534327c78cd",
   "metadata": {},
   "outputs": [],
   "source": []
  }
 ],
 "metadata": {
  "kernelspec": {
   "display_name": "portf01_kernel",
   "language": "python",
   "name": "portf01"
  },
  "language_info": {
   "codemirror_mode": {
    "name": "ipython",
    "version": 3
   },
   "file_extension": ".py",
   "mimetype": "text/x-python",
   "name": "python",
   "nbconvert_exporter": "python",
   "pygments_lexer": "ipython3",
   "version": "3.9.18"
  }
 },
 "nbformat": 4,
 "nbformat_minor": 5
}
