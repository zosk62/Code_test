{
 "cells": [
  {
   "cell_type": "code",
   "execution_count": 2,
   "id": "b0b4e278-54f1-44b1-923c-eb83a6783af4",
   "metadata": {},
   "outputs": [
    {
     "data": {
      "text/plain": [
       "2"
      ]
     },
     "execution_count": 2,
     "metadata": {},
     "output_type": "execute_result"
    }
   ],
   "source": [
    "def solution(t, p):\n",
    "    answer = 0\n",
    "    length=len(p)\n",
    "    substrings = []\n",
    "    result=[]\n",
    "    for i in range(len(t) - length+1 ):\n",
    "        substring = t[i:i+length]\n",
    "        substrings.append(substring)\n",
    "    subs_num=[int(substring) for substring in substrings]\n",
    "    for num in subs_num:\n",
    "        if num <= int(p):\n",
    "            result.append(num)\n",
    "    answer = len(result)\n",
    "    return answer\n",
    "\n",
    "t= \"3141592\"\n",
    "p = \"271\"\n",
    "solution(t, p)"
   ]
  },
  {
   "cell_type": "code",
   "execution_count": null,
   "id": "35f5e11a-fa37-40f2-8aa7-c3cdb5d180bd",
   "metadata": {},
   "outputs": [],
   "source": []
  }
 ],
 "metadata": {
  "kernelspec": {
   "display_name": "mldl01_kernel",
   "language": "python",
   "name": "mldl01"
  },
  "language_info": {
   "codemirror_mode": {
    "name": "ipython",
    "version": 3
   },
   "file_extension": ".py",
   "mimetype": "text/x-python",
   "name": "python",
   "nbconvert_exporter": "python",
   "pygments_lexer": "ipython3",
   "version": "3.9.18"
  }
 },
 "nbformat": 4,
 "nbformat_minor": 5
}
